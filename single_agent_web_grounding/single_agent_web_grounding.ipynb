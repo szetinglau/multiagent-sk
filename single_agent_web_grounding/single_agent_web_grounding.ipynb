{
 "cells": [
  {
   "cell_type": "markdown",
   "metadata": {},
   "source": [
    "https://learn.microsoft.com/en-us/azure/ai-services/agents/how-to/tools/bing-grounding?tabs=python&pivots=code-example"
   ]
  },
  {
   "cell_type": "code",
   "execution_count": 1,
   "metadata": {},
   "outputs": [],
   "source": [
    "import os\n",
    "from typing import Annotated\n",
    "\n",
    "from semantic_kernel.agents.open_ai import AzureAssistantAgent\n",
    "from semantic_kernel.connectors.ai.open_ai.services.azure_chat_completion import AzureChatCompletion\n",
    "from semantic_kernel.contents.streaming_file_reference_content import StreamingFileReferenceContent\n",
    "from semantic_kernel.contents.chat_message_content import ChatMessageContent\n",
    "from semantic_kernel.contents.utils.author_role import AuthorRole\n",
    "\n",
    "from semantic_kernel.core_plugins.web_search_engine_plugin import WebSearchEnginePlugin\n",
    "\n",
    "from semantic_kernel.connectors.search_engine import BingConnector\n",
    "from semantic_kernel.connectors.ai.function_choice_behavior import FunctionChoiceBehavior\n",
    "\n",
    "from semantic_kernel.kernel import Kernel\n",
    "\n",
    "from dotenv import load_dotenv\n",
    "\n",
    "load_dotenv(override=True)\n",
    "\n",
    "azure_openai_endpoint = os.getenv(\"AZURE_OPENAI_ENDPOINT\")\n",
    "azure_openai_key = os.getenv(\"AZURE_OPENAI_API_KEY\")\n",
    "azure_openai_chat_model = os.getenv(\"AZURE_OPENAI_CHAT_DEPLOYMENT_NAME\")  \n",
    "bing_search_key = os.getenv(\"BING_SEARCH_API_KEY\")"
   ]
  },
  {
   "cell_type": "code",
   "execution_count": 2,
   "metadata": {},
   "outputs": [
    {
     "name": "stdout",
     "output_type": "stream",
     "text": [
      "Creating thread...\n",
      "# AuthorRole.ASSISTANT - BingAgent: 'Here are the top news highlights from January 21, 2025:\n",
      "\n",
      "1. **Israeli General Resignation**: Israel's top general resigned, citing security and intelligence failures related to Hamas, which has raised concerns about the country's military leadership and strategy.\n",
      "\n",
      "2. **Gaza Casualties**: Civil defense workers in Gaza reported the discovery of 137 bodies buried under the rubble of homes, schools, and businesses following recent conflicts.\n",
      "\n",
      "3. **U.S. Executive Orders**: On January 20, 2025, U.S. President Donald Trump issued a series of executive orders and directives focused on various issues, including energy policies, as he sought to establish his administration's priorities.\n",
      "\n",
      "4. **General News Coverage**: Various news outlets provided updates and analysis of the significant events occurring on this date, including reactions to the Israeli general's resignation and the situation in Gaza.\n",
      "\n",
      "5. **Military Equipment Updates**: There were discussions about military equipment, including updates on armored personnel carriers and their specifications, highlighting ongoing military interests during this period. \n",
      "\n",
      "These stories reflect the political and humanitarian issues prominent during that time.'\n"
     ]
    }
   ],
   "source": [
    "kernel = Kernel()\n",
    "\n",
    "service_id = \"bing_agent\"\n",
    "\n",
    "# adding openai service to kernel\n",
    "chat_service = AzureChatCompletion(\n",
    "    service_id=service_id,\n",
    "    api_key=azure_openai_key,\n",
    "    endpoint=azure_openai_endpoint,\n",
    "    deployment_name=azure_openai_chat_model,\n",
    ")\n",
    "kernel.add_service(chat_service)\n",
    "\n",
    "connector = BingConnector(api_key=bing_search_key)\n",
    "kernel.add_plugin(WebSearchEnginePlugin(connector), plugin_name=\"WebSearch\")\n",
    "\n",
    "settings = kernel.get_prompt_execution_settings_from_service_id(service_id=service_id)\n",
    "settings.function_choice_behavior = FunctionChoiceBehavior.Auto()\n",
    "\n",
    "# creating code interpreter agent\n",
    "code_agent = await AzureAssistantAgent.create(\n",
    "    kernel=kernel,\n",
    "    service_id=service_id,\n",
    "    name=\"BingAgent\",\n",
    "    instructions=\"you are helpful agent that can get answers from the web, use webSearch plugin to get the answer\",\n",
    "    execution_settings=settings,\n",
    "\n",
    "    # enable_code_interpreter=True\n",
    ")\n",
    "\n",
    "print(\"Creating thread...\")\n",
    "thread_id = await code_agent.create_thread()\n",
    "\n",
    "user_input = \"what was top 5 news on 2025-01-21?\"\n",
    "\n",
    "await code_agent.add_chat_message(\n",
    "    thread_id=thread_id, message=ChatMessageContent(role=AuthorRole.USER, content=user_input)\n",
    ")\n",
    "\n",
    "async for content in code_agent.invoke(thread_id=thread_id):\n",
    "    print(f\"# {content.role} - {content.name or '*'}: '{content.content}'\")\n"
   ]
  }
 ],
 "metadata": {
  "kernelspec": {
   "display_name": ".venv",
   "language": "python",
   "name": "python3"
  },
  "language_info": {
   "codemirror_mode": {
    "name": "ipython",
    "version": 3
   },
   "file_extension": ".py",
   "mimetype": "text/x-python",
   "name": "python",
   "nbconvert_exporter": "python",
   "pygments_lexer": "ipython3",
   "version": "3.11.9"
  }
 },
 "nbformat": 4,
 "nbformat_minor": 2
}
