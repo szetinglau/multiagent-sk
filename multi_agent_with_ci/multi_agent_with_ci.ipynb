{
 "cells": [
  {
   "cell_type": "code",
   "execution_count": 1,
   "metadata": {},
   "outputs": [
    {
     "data": {
      "text/plain": [
       "True"
      ]
     },
     "execution_count": 1,
     "metadata": {},
     "output_type": "execute_result"
    }
   ],
   "source": [
    "import os\n",
    "from typing import Annotated\n",
    "from IPython.display import display, Markdown, Latex\n",
    "\n",
    "from semantic_kernel.agents import AgentGroupChat, ChatCompletionAgent\n",
    "from semantic_kernel.agents.open_ai import AzureAssistantAgent\n",
    "from semantic_kernel.contents.streaming_file_reference_content import StreamingFileReferenceContent\n",
    "from semantic_kernel.agents.strategies.termination.termination_strategy import TerminationStrategy\n",
    "from semantic_kernel.agents.strategies.selection.selection_strategy import SelectionStrategy\n",
    "from semantic_kernel.connectors.ai.function_choice_behavior import FunctionChoiceBehavior\n",
    "from semantic_kernel.contents.chat_history import ChatHistory\n",
    "from semantic_kernel.connectors.ai.open_ai import AzureChatCompletion\n",
    "from semantic_kernel.contents.chat_message_content import ChatMessageContent\n",
    "from semantic_kernel.contents.utils.author_role import AuthorRole\n",
    "from semantic_kernel.functions.kernel_function_from_prompt import KernelFunctionFromPrompt\n",
    "from semantic_kernel.kernel import Kernel\n",
    "from semantic_kernel.agents.strategies.selection.kernel_function_selection_strategy import (\n",
    "    KernelFunctionSelectionStrategy,\n",
    ")\n",
    "from semantic_kernel.agents.strategies.termination.kernel_function_termination_strategy import (\n",
    "    KernelFunctionTerminationStrategy,\n",
    ")\n",
    "from semantic_kernel.functions.kernel_function_decorator import kernel_function\n",
    "from semantic_kernel.functions.kernel_function_from_prompt import KernelFunctionFromPrompt\n",
    "\n",
    "\n",
    "from dotenv import load_dotenv\n",
    "\n",
    "load_dotenv(override=True)\n"
   ]
  },
  {
   "cell_type": "code",
   "execution_count": 6,
   "metadata": {},
   "outputs": [],
   "source": [
    "\n",
    "AZURE_OPENAI_ENDPOINT = os.getenv(\"AZURE_OPENAI_ENDPOINT\")\n",
    "AZURE_OPENAI_API_KEY = os.getenv(\"AZURE_OPENAI_API_KEY\")\n",
    "AZURE_OPENAI_DEPLOYMENT = os.getenv(\"AZURE_OPENAI_CHAT_DEPLOYMENT_NAME\")  \n",
    "AZURE_OPENAI_API_VERSION = \"2024-05-01-preview\" "
   ]
  },
  {
   "cell_type": "code",
   "execution_count": 7,
   "metadata": {},
   "outputs": [],
   "source": [
    "\n",
    "service_id = \"code_gen_agent\"\n",
    "kernel = Kernel()\n",
    "\n",
    "# add the azure openai chat completion serice to the kernel\n",
    "kernel.add_service(AzureChatCompletion(\n",
    "    service_id=\"code_gen_agent\",\n",
    "    api_key=AZURE_OPENAI_API_KEY,\n",
    "    endpoint=AZURE_OPENAI_ENDPOINT,\n",
    "    deployment_name=AZURE_OPENAI_DEPLOYMENT,\n",
    "))\n",
    "\n",
    "code_gen_agent = ChatCompletionAgent(\n",
    "    service_id=service_id,\n",
    "    kernel=kernel,\n",
    "    name=\"CodeGeneratorAgent\", # spaces not allowed\n",
    "    # instructions=\"Repeat the user message in the voice of a pirate and then end with a parrot sound.\",\n",
    "    instructions=\"\"\"\n",
    "        You are an agent that can write python code.\n",
    "        You are here to write code that helps answer questions or solve problems.\n",
    "        ONLY provide code, NOT explanations or the exepcted output.\n",
    "    \"\"\"\n",
    ")"
   ]
  },
  {
   "cell_type": "code",
   "execution_count": 10,
   "metadata": {},
   "outputs": [
    {
     "name": "stdout",
     "output_type": "stream",
     "text": [
      "gpt-4o-mini\n"
     ]
    }
   ],
   "source": [
    "service_id = \"code_runner_agent\"\n",
    "\n",
    "code_runner_agent = await AzureAssistantAgent.create(\n",
    "    service_id=service_id,\n",
    "    kernel=kernel,\n",
    "    name=\"CodeRunnerAgent\",\n",
    "    api_key=AZURE_OPENAI_API_KEY,\n",
    "    endpoint=AZURE_OPENAI_ENDPOINT,\n",
    "    deployment_name=AZURE_OPENAI_DEPLOYMENT,\n",
    "    instructions=\"\"\"\n",
    "        you are agent that CANNOT write code but can run code.\n",
    "        YOU DONT HAVE ABILITY TO WRITE CODE, ONLY RUN WHAT WAS PROVIDED.\n",
    "        If the input does not contain any code, say \"NO CODE PROVIDED, FINAL ANSWER\" and end the conversation.\n",
    "        if the code is given, run the given code, and answer with only \"output: <output>, FINAL ANSWER\"\n",
    "        MAKE SURE TO SAY \"FINAL ANSWER\" to end the conversation\n",
    "        YOU DONT HAVE ABILITY TO WRITE CODE, ONLY REVIEW.\n",
    "    \"\"\",\n",
    "    enable_code_interpreter=True,\n",
    ")\n",
    "\n",
    "print(code_runner_agent.ai_model_id)"
   ]
  },
  {
   "cell_type": "code",
   "execution_count": 9,
   "metadata": {},
   "outputs": [
    {
     "name": "stdout",
     "output_type": "stream",
     "text": [
      "# AuthorRole.USER: 'what are the values in the Fibonacci sequence that that are less then the value of 101?'\n",
      "# AuthorRole.ASSISTANT - CodeGeneratorAgent: '```python\n",
      "def fibonacci_less_than(n):\n",
      "    fib_sequence = []\n",
      "    a, b = 0, 1\n",
      "    while a < n:\n",
      "        fib_sequence.append(a)\n",
      "        a, b = b, a + b\n",
      "    return fib_sequence\n",
      "\n",
      "fibonacci_values = fibonacci_less_than(101)\n",
      "print(fibonacci_values)\n",
      "```'\n",
      "# AuthorRole.ASSISTANT - CodeRunnerAgent: 'def fibonacci_less_than(n):\n",
      "    fib_sequence = []\n",
      "    a, b = 0, 1\n",
      "    while a < n:\n",
      "        fib_sequence.append(a)\n",
      "        a, b = b, a + b\n",
      "    return fib_sequence\n",
      "\n",
      "fibonacci_values = fibonacci_less_than(101)\n",
      "fibonacci_values'\n",
      "# AuthorRole.ASSISTANT - CodeRunnerAgent: 'output: [0, 1, 1, 2, 3, 5, 8, 13, 21, 34, 55, 89], FINAL ANSWER'\n",
      "# IS COMPLETE: True\n"
     ]
    }
   ],
   "source": [
    "def _create_kernel_with_chat_completion(service_id: str) -> Kernel:\n",
    "    kernel = Kernel()\n",
    "    kernel.add_service(AzureChatCompletion(service_id=service_id))\n",
    "    return kernel\n",
    "\n",
    "selection_function = KernelFunctionFromPrompt(\n",
    "    function_name=\"selection\",\n",
    "    prompt=f\"\"\"\n",
    "    Determine which participant takes the next turn in a conversation based on the the most recent participant.\n",
    "    State only the name of the participant to take the next turn.\n",
    "    No participant should take more than one turn in a row.\n",
    "\n",
    "    Choose only from these participants:\n",
    "    - CodeGeneratorAgent\n",
    "    - CodeRunnerAgent\n",
    "\n",
    "    Always follow these rules when selecting the next participant:\n",
    "    - After user input, it is CodeGeneratorAgent's turn.\n",
    "    - After CodeGeneratorAgent replies with relevent code, it is CodeRunnerAgent's turn.\n",
    "\n",
    "    History:\n",
    "    {{{{$history}}}}\n",
    "    \"\"\",\n",
    ")\n",
    "\n",
    "termination_function = KernelFunctionFromPrompt(\n",
    "    function_name=\"termination\",\n",
    "    prompt=\"\"\"\n",
    "    Determine if the copy has been approved.  If so, respond with a phrase: FINAL ANSWER.\n",
    "\n",
    "    History:\n",
    "    {{$history}}\n",
    "    \"\"\",\n",
    ")\n",
    "\n",
    "try:\n",
    "    chat = AgentGroupChat(\n",
    "        agents=[code_gen_agent, code_runner_agent],\n",
    "        selection_strategy=KernelFunctionSelectionStrategy(\n",
    "            function=selection_function,\n",
    "            kernel=_create_kernel_with_chat_completion(\"selection\"),\n",
    "            result_parser=lambda result: str(result.value[0]) if result.value is not None else \"CodeRunnerAgent\",\n",
    "            agent_variable_name=\"agents\",\n",
    "            history_variable_name=\"history\",\n",
    "        ),\n",
    "        termination_strategy=KernelFunctionTerminationStrategy(\n",
    "            agents=[code_runner_agent],\n",
    "            function=termination_function,\n",
    "            kernel=_create_kernel_with_chat_completion(\"termination\"),\n",
    "            result_parser=lambda result: \"FINAL ANSWER\" in str(result.value[0]),\n",
    "            history_variable_name=\"history\",\n",
    "            maximum_iterations=5,\n",
    "        )\n",
    "    )\n",
    "\n",
    "    input = \"what are the values in the Fibonacci sequence that that are less then the value of 101?\"\n",
    "\n",
    "    await chat.add_chat_message(ChatMessageContent(role=AuthorRole.USER, content=input))\n",
    "    print(f\"# {AuthorRole.USER}: '{input}'\")\n",
    "\n",
    "    async for content in chat.invoke():\n",
    "        print(f\"# {content.role} - {content.name or '*'}: '{content.content}'\")\n",
    "\n",
    "    print(f\"# IS COMPLETE: {chat.is_complete}\")\n",
    "except Exception as e:\n",
    "    await chat.reset()"
   ]
  }
 ],
 "metadata": {
  "kernelspec": {
   "display_name": ".venv",
   "language": "python",
   "name": "python3"
  },
  "language_info": {
   "codemirror_mode": {
    "name": "ipython",
    "version": 3
   },
   "file_extension": ".py",
   "mimetype": "text/x-python",
   "name": "python",
   "nbconvert_exporter": "python",
   "pygments_lexer": "ipython3",
   "version": "3.11.9"
  }
 },
 "nbformat": 4,
 "nbformat_minor": 2
}
